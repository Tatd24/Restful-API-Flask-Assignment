{
  "nbformat": 4,
  "nbformat_minor": 0,
  "metadata": {
    "colab": {
      "provenance": [],
      "collapsed_sections": [
        "LfA7yO87pdrB"
      ]
    },
    "kernelspec": {
      "name": "python3",
      "display_name": "Python 3"
    },
    "language_info": {
      "name": "python"
    }
  },
  "cells": [
    {
      "cell_type": "markdown",
      "source": [
        " # Restful API & Flask (Theory)"
      ],
      "metadata": {
        "id": "LfA7yO87pdrB"
      }
    },
    {
      "cell_type": "markdown",
      "source": [
        "1.What is a RESTful API?\n",
        "\n",
        "  Ans: A RESTful API (Representational State Transfer API) is a way for computer systems to communicate over the internet using standard HTTP methods. It is a simple, scalable way to build web services using standard web protocols and operations. It’s widely used in web development for building backend services that can be accessed by web, mobile, or other client applications."
      ],
      "metadata": {
        "id": "FnLr_kVRpdoq"
      }
    },
    {
      "cell_type": "markdown",
      "source": [
        "2.Explain the concept of API specification.\n",
        "\n",
        "  Ans: An API specification is a detailed, formal description of how an API behaves and how developers should interact with it. Think of it as the blueprint or contract for the API—it defines what the API does, how to use it, and what to expect in return.\n",
        "\n",
        "*   Endpoints (Routes)\n",
        "\n",
        "    Define the URL paths where the API can be accessed.\n",
        "\n",
        "    Example: /users, /products/{id}\n",
        "*   HTTP Methods\n",
        "\n",
        "    Specify what action to perform on each endpoint (e.g., GET, POST, PUT, DELETE).\n",
        "\n",
        "*   Request Parameters\n",
        "\n",
        "    Path parameters: e.g., /users/{id}\n",
        "\n",
        "    Query parameters: e.g., /search?query=shoes\n",
        "\n",
        "    Headers: e.g., Authorization, Content-Type\n",
        "\n",
        "    Body: Data sent in requests (usually in JSON)\n",
        "*   Request & Response Format\n",
        "\n",
        "    Defines the structure of data expected in requests and returned in responses.\n",
        "\n",
        "    Usually in JSON or XML.\n",
        "\n",
        "*   Status Codes\n",
        "\n",
        "    Defines what HTTP status codes will be returned in different situations (e.g., 200 OK, 404 Not Found, 500 Internal Server Error).\n",
        "*   Authentication Requirements\n",
        "\n",
        "    Details about how the API handles security, like OAuth2, API keys, tokens, etc.\n"
      ],
      "metadata": {
        "id": "1Glp1dmFpdmR"
      }
    },
    {
      "cell_type": "markdown",
      "source": [
        "3. What is Flask, and why is it popular for building APIs?\n",
        "\n",
        "  Ans: Flask is a lightweight web framework for Python, widely used for building web applications and RESTful APIs. It’s known for its simplicity, flexibility, and minimalism, which makes it a popular choice—especially for small to medium projects, prototypes, and microservices.\n",
        "\n",
        "  Flask is Popular for Building APIs as:\n",
        "\n",
        "*   Minimal and Lightweight\n",
        "\n",
        "    Flask doesn’t come with a lot of built-in tools or layers of abstraction.\n",
        "\n",
        "    You start with just the core and add what you need, keeping your API lean.\n",
        "\n",
        "*   Easy to Learn and Use\n",
        "\n",
        "    The syntax is clean and Pythonic.\n",
        "\n",
        "    Great for beginners and experienced developers alike.\n",
        "\n",
        "    Quick to set up and run.\n",
        "*   Powerful Routing System\n",
        "\n",
        "    Easily map HTTP methods (GET, POST, etc.) to Python functions.\n",
        "*   Extensible\n",
        "\n",
        "    Supports plugins and extensions for things like:\n",
        "\n",
        "    Authentication (e.g., Flask-JWT, Flask-Login)\n",
        "\n",
        "    Database integration (e.g., Flask-SQLAlchemy)\n",
        "\n",
        "    API documentation (e.g., Flask-RESTx, Flask-Swagger)\n",
        "\n",
        "*   Good for REST APIs\n",
        "\n",
        "    Its simplicity aligns well with REST principles: simple endpoints, HTTP methods, and JSON responses.\n",
        "\n",
        "    Easy to build, test, and deploy RESTful services.\n",
        "*   Strong Community and Ecosystem\n",
        "\n",
        "    Lots of tutorials, tools, and community support.\n",
        "\n",
        "    Many popular Python-based APIs and web apps use Flask under the hood.\n",
        "\n",
        "\n",
        "\n"
      ],
      "metadata": {
        "id": "-fvU_v7Ppdir"
      }
    },
    {
      "cell_type": "markdown",
      "source": [
        "4.What is routing in Flask?\n",
        "\n",
        "  Ans: Routing in Flask is how you define what each URL in your web app or API should do. It connects URLs to Python functions and supports both static and dynamic routes, as well as various HTTP methods. It's one of the core features that makes Flask simple and powerful for web development.."
      ],
      "metadata": {
        "id": "UYI2dgoPpdeq"
      }
    },
    {
      "cell_type": "markdown",
      "source": [
        "5.How do you create a simple Flask application?\n",
        "\n",
        "  Ans: Creating a simple Flask application is quick and easy. Here's a step-by-step guide to building a minimal Flask app that runs a web server and returns a basic message.\n",
        "\n",
        "*   Step 1: Install Flask\n",
        "\n",
        "    First, install Flask using pip (Python’s package manager)\n",
        "\n",
        "*   Step 2: Create the Application File\n",
        "\n",
        "    Create a Python file, e.g., app.py, with the following content\n",
        "*   Step 3: Run the Application\n",
        "\n",
        "    In your terminal, run the script\n",
        "\n",
        "\n",
        "*   Step 4 (Optional): Add Another Route\n",
        "\n",
        "    You can define more routes like this\n",
        "\n"
      ],
      "metadata": {
        "id": "0sEu82RHpdbB"
      }
    },
    {
      "cell_type": "markdown",
      "source": [
        "6. What are HTTP methods used in RESTful APIs?\n",
        "\n",
        "    Ans: In RESTful APIs, HTTP methods define the type of operation a client wants to perform on a resource (like creating, reading, updating, or deleting data). These methods map closely to CRUD operations (Create, Read, Update, Delete).\n",
        "\n",
        "*   GET → retrieve\n",
        "*   POST → create\n",
        "*   PUT → replace\n",
        "*   PATCH → modify\n",
        "*   DELETE → remove"
      ],
      "metadata": {
        "id": "KM7fHSc_pdY5"
      }
    },
    {
      "cell_type": "markdown",
      "source": [
        "7.What is the purpose of the @app.route() decorator in Flask?\n",
        "\n",
        "  Ans: The @app.route() decorator in Flask is used to map a URL path (route) to a specific function, called a view function. This tells Flask what code to run when a user visits a certain URL.\n",
        "\n",
        "  Purpose of @app.route():\n",
        "\n",
        "*   Defines routes (URLs) in your application.\n",
        "*   Connects URLs to Python functions that return responses (like HTML, JSON, etc.).\n",
        "*   Specifies which HTTP methods (GET, POST, etc.) the route supports (optionally)."
      ],
      "metadata": {
        "id": "F4HeWhjZpdXK"
      }
    },
    {
      "cell_type": "markdown",
      "source": [
        "8.What is the difference between GET and POST HTTP methods?\n",
        "\n",
        "  Ans: The difference between GET and POST HTTP methods lies in how they send data and what they are used for in RESTful APIs and web applications.\n",
        "\n",
        "\n",
        "| Feature        | `GET`                     | `POST`                       |\n",
        "| -------------- | ------------------------- | ---------------------------- |\n",
        "| **Purpose**    | Retrieve data (read-only) | Send data (create or update) |\n",
        "| **Data sent**  | In URL (query string)     | In request body              |\n",
        "| **Visible?**   | Yes (in browser & logs)   | No (hidden)                  |\n",
        "| **Idempotent** |  Yes                     | No                         |\n",
        "| **Use for**    | Reading/searching data    | Creating or submitting data  |\n",
        "\n",
        "\n"
      ],
      "metadata": {
        "id": "r2a0cVBQpdS5"
      }
    },
    {
      "cell_type": "markdown",
      "source": [
        "9.How do you handle errors in Flask APIs?\n",
        "\n",
        "  Ans: In Flask APIs, you handle errors using:\n",
        "\n",
        "*   @app.errorhandler() Decorator:\n",
        "\n",
        "    Catch specific error types (like 404 or 500) and return custom responses.\n",
        "*   Using abort() for Manual Errors:\n",
        "    Use abort() to stop the request and return an error.\n",
        "*   Custom Exceptions:\n",
        "    Define your own exceptions and handle them globally."
      ],
      "metadata": {
        "id": "yIXk5Br-pdQx"
      }
    },
    {
      "cell_type": "markdown",
      "source": [
        "10.How do you connect Flask to a SQL database?\n",
        "\n",
        "  Ans: To connect Flask to a SQL database, the most common approach is using Flask-SQLAlchemy, which integrates SQLAlchemy (a powerful ORM) with Flask.\n",
        "\n",
        "  Steps to Connect Flask to a SQL Database:\n",
        "\n",
        "*   Install Flask-SQLAlchemy\n",
        "*   Set Up Flask and Configure the Database\n",
        "*   Define a Model (Table)\n",
        "*   Create the Database Tables (Run db.create_all())\n",
        "*   Insert and Query Data (Use db.session to interact with the database)"
      ],
      "metadata": {
        "id": "AMWsxXy7pdMa"
      }
    },
    {
      "cell_type": "markdown",
      "source": [
        "11.What is the role of Flask-SQLAlchemy?\n",
        "\n",
        "  Ans: Flask-SQLAlchemy is an extension for Flask that simplifies working with SQL databases by integrating the powerful SQLAlchemy ORM (Object Relational Mapper) into Flask applications.\n",
        "\n",
        "  Role of Flask-SQLAlchemy:\n",
        "\n",
        "*   ORM Integration: Maps Python classes (models) to database tables so you can use Python instead of SQL to work with your data.\n",
        "\n",
        "*   Simplified Setup: Makes configuring and using SQLAlchemy in Flask much easier.\n",
        "\n",
        "*   Session Management: Handles database sessions and transactions through db.session.\n",
        "*   Model Management: Allows you to define models using db.Model and manage tables with db.create_all().\n",
        "\n",
        "*   Cross-DB Support: Works with SQLite, PostgreSQL, MySQL, and others using a unified interface."
      ],
      "metadata": {
        "id": "Cw3rBhb2FzaP"
      }
    },
    {
      "cell_type": "markdown",
      "source": [
        "12. What are Flask blueprints, and how are they useful?\n",
        "\n",
        "    Ans: Flask Blueprints are a way to organize and structure large Flask applications by grouping related routes, templates, and static files into modular components.\n",
        "\n",
        "*   Modular Code: Keeps code organized by separating features (e.g., auth, admin, blog).\n",
        "*   Reusable Components: Blueprints can be reused across different projects.\n",
        "*   Easier Maintenance: Makes large apps easier to navigate, test, and maintain.\n",
        "*   Cleaner Main App: Keeps app.py or main.py clean by offloading routes and logic."
      ],
      "metadata": {
        "id": "bVkOH18EFzTu"
      }
    },
    {
      "cell_type": "markdown",
      "source": [
        "13. What is the purpose of Flask's request object?\n",
        "\n",
        "    Ans: Flask’s request object represents the incoming HTTP request sent by the client. It gives your Flask app access to all the data the client sent with that request.\n",
        "\n",
        "    Purpose of request object:\n",
        "\n",
        "*   Access request data like form inputs, JSON payload, query parameters.\n",
        "*   Read HTTP headers, cookies, and files uploaded by the client.\n",
        "*   Check the HTTP method used (GET, POST, etc.).\n",
        "*   Get information about the client (like IP address)."
      ],
      "metadata": {
        "id": "GLVknNBcFzRe"
      }
    },
    {
      "cell_type": "markdown",
      "source": [
        "14.How do you create a RESTful API endpoint using Flask?\n",
        "\n",
        "  Ans:Creating a RESTful API endpoint in Flask involves defining a route that handles HTTP requests and returns data, usually in JSON format.\n",
        "\n",
        "  Use @app.route() to define URL paths and allowed HTTP methods (GET, POST, etc.).\n",
        "\n",
        "  Use jsonify() to return JSON responses.\n",
        "\n",
        "  Use request.get_json() to parse incoming JSON data in POST.\n",
        "\n",
        "  Return appropriate HTTP status codes (200 for success, 201 for created, 404 for not found)."
      ],
      "metadata": {
        "id": "FDgK8oRAFzPP"
      }
    },
    {
      "cell_type": "markdown",
      "source": [
        "15.What is the purpose of Flask's jsonify() function?\n",
        "\n",
        "  Ans: Flask’s jsonify() function is used to convert Python data (like dictionaries or lists) into a JSON-formatted HTTP response.\n",
        "\n",
        "  Purpose of jsonify():\n",
        "\n",
        "*   Automatically serializes Python objects to JSON.\n",
        "*   Sets the Content-Type header to application/json.\n",
        "*   Returns a Flask Response object ready to send to the client.\n",
        "*   Handles things like proper encoding and response formatting."
      ],
      "metadata": {
        "id": "e3xJHTDVFzNG"
      }
    },
    {
      "cell_type": "markdown",
      "source": [
        "16.Explain Flask’s url_for() function.\n",
        "\n",
        "  Ans: Flask’s url_for() function is used to build URLs dynamically for your application’s routes based on the function names (endpoint names).\n",
        "\n",
        "  Purpose of url_for():\n",
        "\n",
        "*   Generates a URL for a given view function.\n",
        "*   Helps avoid hardcoding URLs, making your app more flexible.\n",
        "*   Automatically handles URL building with parameters.\n",
        "*   Works well with URL changes (you only change the route once, not everywhere it’s used)."
      ],
      "metadata": {
        "id": "3TUxYrhPFzK-"
      }
    },
    {
      "cell_type": "markdown",
      "source": [
        "17.How does Flask handle static files (CSS, JavaScript, etc.)?\n",
        "\n",
        "   Ans: Flask handles static files (like CSS, JavaScript, images) through a special folder named static in your project directory.\n",
        "\n",
        "   How Flask Serves Static Files:\n",
        "\n",
        "*   By default, Flask looks for a folder called static in your project root.\n",
        "*   Files inside static are accessible via the URL path /static/<filename>.\n",
        "*   For example, a CSS file static/style.css is served at http://yourdomain.com/static/style.css."
      ],
      "metadata": {
        "id": "nD2_-zWKFzJA"
      }
    },
    {
      "cell_type": "markdown",
      "source": [
        "18.What is an API specification, and how does it help in building a Flask API?\\\n",
        "\n",
        "  Ans: An API specification is a formal, structured document that defines how an API should behave — including its endpoints, request/response formats, data types, authentication, and error handling.\n",
        "\n",
        "  How API Specification Helps in Building a Flask API:\n",
        "\n",
        "*   Clear Contract: Defines exactly what the API expects and returns, reducing misunderstandings between frontend and backend.\n",
        "\n",
        "*   Standardization: Helps keep APIs consistent and predictable.\n",
        "*   Faster Development: Provides a blueprint to implement routes, inputs, and outputs in Flask.\n",
        "*   Better Documentation: Serves as up-to-date API docs for developers.\n",
        "\n",
        "*   Testing & Validation: Enables automatic testing and validation tools to check API correctness."
      ],
      "metadata": {
        "id": "PDhJQ4aVFzGX"
      }
    },
    {
      "cell_type": "markdown",
      "source": [
        "19.What are HTTP status codes, and why are they important in a Flask API?\n",
        "\n",
        "  Ans: HTTP status codes are standardized three-digit numbers sent by the server in response to a client’s HTTP request. They indicate whether the request was successful, failed, or needs further action.\n",
        "\n",
        "  Why Are HTTP Status Codes Important in a Flask API-\n",
        "\n",
        "*   Communicate Result: Tell the client if the request succeeded or failed (e.g., 200 OK, 404 Not Found).\n",
        "*    Guide Client Behavior: Help clients decide what to do next (retry, show error, redirect).\n",
        "*   Standardization: Provide a common language understood by browsers, apps, and tools.\n",
        "*   Debugging & Monitoring:\tMakes it easier to identify issues by looking at response codes."
      ],
      "metadata": {
        "id": "k-OCFVzSJbcY"
      }
    },
    {
      "cell_type": "markdown",
      "source": [
        "20.How do you handle POST requests in Flask?\n",
        "\n",
        "  Ans: Handling POST requests in Flask involves defining a route that accepts POST method and accessing the data sent by the client.\n",
        "\n",
        "*   Use methods=['POST'] in route decorator.\n",
        "*   Use request.get_json() or request.form to read POSTed data.\n",
        "*   Return appropriate response (usually JSON with status code like 201)."
      ],
      "metadata": {
        "id": "qBfUaX5CJbZn"
      }
    },
    {
      "cell_type": "markdown",
      "source": [
        "21.How would you secure a Flask API?\n",
        "\n",
        "  Ans: Securing a Flask API involves multiple layers of protection to ensure only authorized users can access your endpoints, data is safe, and the app is resilient to common attacks.\n",
        "\n",
        "*   Authenticate & authorize users properly.\n",
        "*   Use HTTPS.\n",
        "*   Validate inputs.List item\n",
        "*   Limit request rates.\n",
        "*   Handle errors safely.\n",
        "*   Control cross-origin access."
      ],
      "metadata": {
        "id": "lGguvIItJbW3"
      }
    },
    {
      "cell_type": "markdown",
      "source": [
        "22.What is the significance of the Flask-RESTful extension?\n",
        "\n",
        "  Ans: Flask-RESTful is an extension that simplifies building RESTful APIs with Flask by providing useful abstractions and tools tailored for API development.It streamlines REST API development by organizing endpoints as resources, andling input parsing, and managing responses — making Flask APIs easier and faster to build and maintain."
      ],
      "metadata": {
        "id": "MpMInB4BJapv"
      }
    },
    {
      "cell_type": "markdown",
      "source": [
        "23. What is the role of Flask’s session object?\n",
        "\n",
        "    Ans: Flask’s session object is used to store data specific to a user’s session between requests. It allows you to keep user information (like login status or preferences) across multiple HTTP requests.\n",
        "\n",
        "    Key Points About session:\n",
        "\n",
        "*   Stores data on the server-side but sends a session ID cookie to the client.\n",
        "*   Uses signed cookies to ensure data integrity (client can’t tamper with the session data).\n",
        "*   Data persists as long as the session lasts (usually until the browser is closed or session expires)."
      ],
      "metadata": {
        "id": "qpKHc1ZUL34a"
      }
    },
    {
      "cell_type": "markdown",
      "source": [
        "# Practical"
      ],
      "metadata": {
        "id": "Hm1XoM-uQ06F"
      }
    },
    {
      "cell_type": "markdown",
      "source": [
        "1. How do you create a basic Flask application?"
      ],
      "metadata": {
        "id": "hkvUfJkMQ3yK"
      }
    },
    {
      "cell_type": "code",
      "execution_count": 27,
      "metadata": {
        "id": "7nBeKG_LpaTx",
        "colab": {
          "base_uri": "https://localhost:8080/"
        },
        "outputId": "a5f06ec1-30e7-4816-afdc-88139c3928be"
      },
      "outputs": [
        {
          "output_type": "stream",
          "name": "stdout",
          "text": [
            " * Serving Flask app '__main__'\n",
            " * Debug mode: on\n"
          ]
        },
        {
          "output_type": "stream",
          "name": "stderr",
          "text": [
            "INFO:werkzeug:\u001b[31m\u001b[1mWARNING: This is a development server. Do not use it in a production deployment. Use a production WSGI server instead.\u001b[0m\n",
            " * Running on http://127.0.0.1:5000\n",
            "INFO:werkzeug:\u001b[33mPress CTRL+C to quit\u001b[0m\n",
            "INFO:werkzeug: * Restarting with watchdog (inotify)\n"
          ]
        }
      ],
      "source": [
        "from flask import Flask\n",
        "\n",
        "app = Flask(__name__)\n",
        "\n",
        "@app.route('/')\n",
        "def hello_world():\n",
        "    return 'Hello World!!'\n",
        "\n",
        "if __name__ == '__main__':\n",
        "    app.run(debug = True)\n"
      ]
    },
    {
      "cell_type": "markdown",
      "source": [
        "2.  How do you serve static files like images or CSS in Flask?"
      ],
      "metadata": {
        "id": "NZjMAYrgSB3T"
      }
    },
    {
      "cell_type": "code",
      "source": [
        "import os\n",
        "\n",
        "os.makedirs('static', exist_ok=True)\n",
        "\n",
        "with open('static/style.css', 'w') as f:\n",
        "    f.write('body {background-color: lightblue;}')\n",
        "\n",
        "from flask import Flask, url_for\n",
        "\n",
        "app = Flask(__name__)\n",
        "\n",
        "@app.route('/')\n",
        "def home():\n",
        "    return '''\n",
        "    <html>\n",
        "    <head>\n",
        "        <link rel=\"stylesheet\" href=\"{}\">\n",
        "    </head>\n",
        "    <body>\n",
        "        <h1>Hello, styled Flask!</h1>\n",
        "    </body>\n",
        "    </html>\n",
        "    '''.format(url_for('static', filename='style.css'))\n",
        "\n",
        "if __name__ == '__main__':\n",
        "    app.run()"
      ],
      "metadata": {
        "colab": {
          "base_uri": "https://localhost:8080/"
        },
        "id": "IGT5SIF_STBp",
        "outputId": "cf272dba-a46b-48b0-c09e-1e9108ea128b"
      },
      "execution_count": 10,
      "outputs": [
        {
          "output_type": "stream",
          "name": "stdout",
          "text": [
            " * Serving Flask app '__main__'\n",
            " * Debug mode: off\n"
          ]
        },
        {
          "output_type": "stream",
          "name": "stderr",
          "text": [
            "INFO:werkzeug:\u001b[31m\u001b[1mWARNING: This is a development server. Do not use it in a production deployment. Use a production WSGI server instead.\u001b[0m\n",
            " * Running on http://127.0.0.1:5000\n",
            "INFO:werkzeug:\u001b[33mPress CTRL+C to quit\u001b[0m\n"
          ]
        }
      ]
    },
    {
      "cell_type": "markdown",
      "source": [
        "3.  How do you define different routes with different HTTP methods in Flask?"
      ],
      "metadata": {
        "id": "GVnqInOqWAl0"
      }
    },
    {
      "cell_type": "code",
      "source": [
        "from flask import Flask, request\n",
        "\n",
        "app = Flask(__name__)\n",
        "\n",
        "@app.route('/')\n",
        "def home():\n",
        "    return \"This is a GET request\"\n",
        "\n",
        "@app.route('/submit', methods=['POST'])\n",
        "def submit():\n",
        "    data = request.form.get('data')\n",
        "    return f\"Received POST data: {data}\"\n",
        "\n",
        "\n",
        "@app.route('/both', methods=['GET', 'POST'])\n",
        "def both_methods():\n",
        "    if request.method == 'POST':\n",
        "        return \"POST request received\"\n",
        "    else:\n",
        "        return \"GET request received\"\n",
        "\n",
        "if __name__ == '__main__':\n",
        "    app.run(debug=True)"
      ],
      "metadata": {
        "id": "L2_u92kjSUDZ",
        "colab": {
          "base_uri": "https://localhost:8080/"
        },
        "outputId": "fb03be24-47fb-472c-b4e4-4e2c590282ce"
      },
      "execution_count": 11,
      "outputs": [
        {
          "output_type": "stream",
          "name": "stdout",
          "text": [
            " * Serving Flask app '__main__'\n",
            " * Debug mode: on\n"
          ]
        },
        {
          "output_type": "stream",
          "name": "stderr",
          "text": [
            "INFO:werkzeug:\u001b[31m\u001b[1mWARNING: This is a development server. Do not use it in a production deployment. Use a production WSGI server instead.\u001b[0m\n",
            " * Running on http://127.0.0.1:5000\n",
            "INFO:werkzeug:\u001b[33mPress CTRL+C to quit\u001b[0m\n",
            "INFO:werkzeug: * Restarting with watchdog (inotify)\n"
          ]
        }
      ]
    },
    {
      "cell_type": "markdown",
      "source": [
        "4. How do you render HTML templates in Flask?"
      ],
      "metadata": {
        "id": "Ab6fEXSiWz7B"
      }
    },
    {
      "cell_type": "code",
      "source": [
        "from flask import Flask, render_template\n",
        "\n",
        "app = Flask(__name__)\n",
        "\n",
        "@app.route('/')\n",
        "def home():\n",
        "    return render_template('index.html')\n",
        "\n",
        "if __name__ == '__main__':\n",
        "      app.run(debug=True)\n"
      ],
      "metadata": {
        "colab": {
          "base_uri": "https://localhost:8080/"
        },
        "id": "_gzTu0XBW4Ea",
        "outputId": "775c4b7c-b090-42b1-a05b-03bcafb6d6b9"
      },
      "execution_count": 15,
      "outputs": [
        {
          "output_type": "stream",
          "name": "stdout",
          "text": [
            " * Serving Flask app '__main__'\n",
            " * Debug mode: on\n"
          ]
        },
        {
          "output_type": "stream",
          "name": "stderr",
          "text": [
            "INFO:werkzeug:\u001b[31m\u001b[1mWARNING: This is a development server. Do not use it in a production deployment. Use a production WSGI server instead.\u001b[0m\n",
            " * Running on http://127.0.0.1:5000\n",
            "INFO:werkzeug:\u001b[33mPress CTRL+C to quit\u001b[0m\n",
            "INFO:werkzeug: * Restarting with watchdog (inotify)\n"
          ]
        }
      ]
    },
    {
      "cell_type": "markdown",
      "source": [
        "5.  How can you generate URLs for routes in Flask using url_for?"
      ],
      "metadata": {
        "id": "x15ki64IXiPD"
      }
    },
    {
      "cell_type": "code",
      "source": [
        "from flask import Flask, url_for\n",
        "\n",
        "app = Flask(__name__)\n",
        "\n",
        "@app.route('/')\n",
        "def home():\n",
        "    return \"Home Page\"\n",
        "\n",
        "@app.route('/user/<username>')\n",
        "def profile(username):\n",
        "    return f\"User: {username}\"\n",
        "\n",
        "@app.route('/links')\n",
        "def links():\n",
        "    # Generate URLs dynamically\n",
        "    home_url = url_for('home')\n",
        "    profile_url = url_for('profile', username='alice')\n",
        "    return f'Home URL: {home_url} <br> Profile URL: {profile_url}'\n",
        "\n",
        "if __name__ == '__main__':\n",
        "    app.run(debug=True)"
      ],
      "metadata": {
        "colab": {
          "base_uri": "https://localhost:8080/"
        },
        "id": "lA_U5ynHXm9y",
        "outputId": "a54aea67-9c59-46a5-e0ce-d760cf6492ee"
      },
      "execution_count": 16,
      "outputs": [
        {
          "output_type": "stream",
          "name": "stdout",
          "text": [
            " * Serving Flask app '__main__'\n",
            " * Debug mode: on\n"
          ]
        },
        {
          "output_type": "stream",
          "name": "stderr",
          "text": [
            "INFO:werkzeug:\u001b[31m\u001b[1mWARNING: This is a development server. Do not use it in a production deployment. Use a production WSGI server instead.\u001b[0m\n",
            " * Running on http://127.0.0.1:5000\n",
            "INFO:werkzeug:\u001b[33mPress CTRL+C to quit\u001b[0m\n",
            "INFO:werkzeug: * Restarting with watchdog (inotify)\n"
          ]
        }
      ]
    },
    {
      "cell_type": "markdown",
      "source": [
        "6. How do you handle forms in Flask?"
      ],
      "metadata": {
        "id": "DxHx2gwAXsEo"
      }
    },
    {
      "cell_type": "code",
      "source": [
        "from flask import Flask, render_template, request\n",
        "\n",
        "app = Flask(__name__)\n",
        "\n",
        "@app.route('/form', methods=['GET', 'POST'])\n",
        "def form():\n",
        "    if request.method == 'POST':\n",
        "        name = request.form['name']\n",
        "        email = request.form['email']\n",
        "        return f\"Received: Name={name}, Email={email}\"\n",
        "    return render_template('form.html')\n",
        "\n",
        "if __name__ == '__main__':\n",
        "    app.run(debug=True)"
      ],
      "metadata": {
        "colab": {
          "base_uri": "https://localhost:8080/"
        },
        "id": "ODC9MD1YXq0i",
        "outputId": "daa83e1e-3a2d-41a5-e095-f4420317a978"
      },
      "execution_count": 17,
      "outputs": [
        {
          "output_type": "stream",
          "name": "stdout",
          "text": [
            " * Serving Flask app '__main__'\n",
            " * Debug mode: on\n"
          ]
        },
        {
          "output_type": "stream",
          "name": "stderr",
          "text": [
            "INFO:werkzeug:\u001b[31m\u001b[1mWARNING: This is a development server. Do not use it in a production deployment. Use a production WSGI server instead.\u001b[0m\n",
            " * Running on http://127.0.0.1:5000\n",
            "INFO:werkzeug:\u001b[33mPress CTRL+C to quit\u001b[0m\n",
            "INFO:werkzeug: * Restarting with watchdog (inotify)\n"
          ]
        }
      ]
    },
    {
      "cell_type": "markdown",
      "source": [
        "7.  How can you validate form data in Flask?"
      ],
      "metadata": {
        "id": "_OJ6hd5nX6mJ"
      }
    },
    {
      "cell_type": "code",
      "source": [
        "from flask import Flask, request, render_template\n",
        "\n",
        "app = Flask(__name__)\n",
        "\n",
        "@app.route('/form', methods=['GET', 'POST'])\n",
        "def form():\n",
        "    error = None\n",
        "    if request.method == 'POST':\n",
        "        name = request.form.get('name')\n",
        "        email = request.form.get('email')\n",
        "\n",
        "        if not name or not email:\n",
        "            error = \"Both name and email are required!\"\n",
        "        else:\n",
        "            return f\"Form submitted: Name = {name}, Email = {email}\"\n",
        "\n",
        "    return render_template('form.html', error=error)"
      ],
      "metadata": {
        "id": "WR1yBUNYX3KV"
      },
      "execution_count": 19,
      "outputs": []
    },
    {
      "cell_type": "markdown",
      "source": [
        "8. How do you manage sessions in Flask?"
      ],
      "metadata": {
        "id": "3o3tSDeAYH-x"
      }
    },
    {
      "cell_type": "code",
      "source": [
        "from flask import Flask, session, redirect, url_for, request\n",
        "\n",
        "app = Flask(__name__)\n",
        "app.secret_key = 'your_secret_key'  # Required to use sessions securely\n",
        "\n",
        "@app.route('/')\n",
        "def index():\n",
        "    if 'username' in session:\n",
        "        return f'Logged in as {session[\"username\"]}'\n",
        "    return 'You are not logged in.'\n",
        "\n",
        "@app.route('/login', methods=['GET', 'POST'])\n",
        "def login():\n",
        "    if request.method == 'POST':\n",
        "        session['username'] = request.form['username']\n",
        "        return redirect(url_for('index'))\n",
        "    return '''\n",
        "        <form method=\"post\">\n",
        "            <input type=\"text\" name=\"username\">\n",
        "            <input type=\"submit\" value=\"Login\">\n",
        "        </form>\n",
        "    '''\n",
        "\n",
        "@app.route('/logout')\n",
        "def logout():\n",
        "    session.pop('username', None)\n",
        "    return redirect(url_for('index'))\n",
        "\n",
        "if __name__ == '__main__':\n",
        "    app.run(debug=True)\n"
      ],
      "metadata": {
        "colab": {
          "base_uri": "https://localhost:8080/"
        },
        "id": "B-xVI3M1YEnx",
        "outputId": "d02826f8-b58b-4ae7-89c6-12be9f325a70"
      },
      "execution_count": 20,
      "outputs": [
        {
          "output_type": "stream",
          "name": "stdout",
          "text": [
            " * Serving Flask app '__main__'\n",
            " * Debug mode: on\n"
          ]
        },
        {
          "output_type": "stream",
          "name": "stderr",
          "text": [
            "INFO:werkzeug:\u001b[31m\u001b[1mWARNING: This is a development server. Do not use it in a production deployment. Use a production WSGI server instead.\u001b[0m\n",
            " * Running on http://127.0.0.1:5000\n",
            "INFO:werkzeug:\u001b[33mPress CTRL+C to quit\u001b[0m\n",
            "INFO:werkzeug: * Restarting with watchdog (inotify)\n"
          ]
        }
      ]
    },
    {
      "cell_type": "markdown",
      "source": [
        "9.  How do you redirect to a different route in Flask?"
      ],
      "metadata": {
        "id": "R8pqvwt0YcuI"
      }
    },
    {
      "cell_type": "code",
      "source": [
        "from flask import Flask, redirect, url_for\n",
        "\n",
        "app = Flask(__name__)\n",
        "\n",
        "@app.route('/')\n",
        "def home():\n",
        "    return 'Home Page'\n",
        "\n",
        "@app.route('/login')\n",
        "def login():\n",
        "    return 'Login Page'\n",
        "\n",
        "@app.route('/go-to-login')\n",
        "def go_to_login():\n",
        "    return redirect(url_for('login'))  # Redirects to /login\n",
        "\n",
        "if __name__ == '__main__':\n",
        "    app.run(debug=True)\n"
      ],
      "metadata": {
        "colab": {
          "base_uri": "https://localhost:8080/"
        },
        "id": "t_AQrsiPYbdN",
        "outputId": "704b0abf-c46a-489f-ae54-2b2849093047"
      },
      "execution_count": 21,
      "outputs": [
        {
          "output_type": "stream",
          "name": "stdout",
          "text": [
            " * Serving Flask app '__main__'\n",
            " * Debug mode: on\n"
          ]
        },
        {
          "output_type": "stream",
          "name": "stderr",
          "text": [
            "INFO:werkzeug:\u001b[31m\u001b[1mWARNING: This is a development server. Do not use it in a production deployment. Use a production WSGI server instead.\u001b[0m\n",
            " * Running on http://127.0.0.1:5000\n",
            "INFO:werkzeug:\u001b[33mPress CTRL+C to quit\u001b[0m\n",
            "INFO:werkzeug: * Restarting with watchdog (inotify)\n"
          ]
        }
      ]
    },
    {
      "cell_type": "markdown",
      "source": [
        "10.  How do you handle errors in Flask (e.g., 404)?"
      ],
      "metadata": {
        "id": "NVTmKk5kYqz4"
      }
    },
    {
      "cell_type": "code",
      "source": [
        "from flask import Flask, render_template\n",
        "\n",
        "app = Flask(__name__)\n",
        "\n",
        "@app.route('/')\n",
        "def home():\n",
        "    return 'Welcome to the homepage!'\n",
        "\n",
        "# Handle 404 errors (Page Not Found)\n",
        "@app.errorhandler(404)\n",
        "def page_not_found(e):\n",
        "    return render_template('404.html'), 404\n"
      ],
      "metadata": {
        "id": "mMRDsqhyYpZc"
      },
      "execution_count": 23,
      "outputs": []
    },
    {
      "cell_type": "markdown",
      "source": [
        "11.  How do you structure a Flask app using Blueprints?"
      ],
      "metadata": {
        "id": "N68_7UYGY2OC"
      }
    },
    {
      "cell_type": "code",
      "source": [
        "from flask import Blueprint, render_template\n",
        "\n",
        "auth_bp = Blueprint('auth', __name__, url_prefix='/auth')\n",
        "\n",
        "@auth_bp.route('/login')\n",
        "def login():\n",
        "    return render_template('login.html')\n",
        "from flask import Flask\n",
        "from auth.routes import auth_bp  # Import your blueprint\n",
        "\n",
        "app = Flask(__name__)\n",
        "app.secret_key = 'your_secret'\n",
        "\n",
        "# Register blueprint\n",
        "app.register_blueprint(auth_bp)\n",
        "\n",
        "@app.route('/')\n",
        "def home():\n",
        "    return \"Home Page\""
      ],
      "metadata": {
        "colab": {
          "base_uri": "https://localhost:8080/",
          "height": 383
        },
        "id": "a7RjyVhMYwi9",
        "outputId": "0717f1a7-bced-4ab0-da58-9f4a66d985f2"
      },
      "execution_count": 29,
      "outputs": [
        {
          "output_type": "error",
          "ename": "ModuleNotFoundError",
          "evalue": "No module named 'auth'",
          "traceback": [
            "\u001b[0;31m---------------------------------------------------------------------------\u001b[0m",
            "\u001b[0;31mModuleNotFoundError\u001b[0m                       Traceback (most recent call last)",
            "\u001b[0;32m/tmp/ipython-input-1017814740.py\u001b[0m in \u001b[0;36m<cell line: 0>\u001b[0;34m()\u001b[0m\n\u001b[1;32m      7\u001b[0m     \u001b[0;32mreturn\u001b[0m \u001b[0mrender_template\u001b[0m\u001b[0;34m(\u001b[0m\u001b[0;34m'login.html'\u001b[0m\u001b[0;34m)\u001b[0m\u001b[0;34m\u001b[0m\u001b[0;34m\u001b[0m\u001b[0m\n\u001b[1;32m      8\u001b[0m \u001b[0;32mfrom\u001b[0m \u001b[0mflask\u001b[0m \u001b[0;32mimport\u001b[0m \u001b[0mFlask\u001b[0m\u001b[0;34m\u001b[0m\u001b[0;34m\u001b[0m\u001b[0m\n\u001b[0;32m----> 9\u001b[0;31m \u001b[0;32mfrom\u001b[0m \u001b[0mauth\u001b[0m\u001b[0;34m.\u001b[0m\u001b[0mroutes\u001b[0m \u001b[0;32mimport\u001b[0m \u001b[0mauth_bp\u001b[0m  \u001b[0;31m# Import your blueprint\u001b[0m\u001b[0;34m\u001b[0m\u001b[0;34m\u001b[0m\u001b[0m\n\u001b[0m\u001b[1;32m     10\u001b[0m \u001b[0;34m\u001b[0m\u001b[0m\n\u001b[1;32m     11\u001b[0m \u001b[0mapp\u001b[0m \u001b[0;34m=\u001b[0m \u001b[0mFlask\u001b[0m\u001b[0;34m(\u001b[0m\u001b[0m__name__\u001b[0m\u001b[0;34m)\u001b[0m\u001b[0;34m\u001b[0m\u001b[0;34m\u001b[0m\u001b[0m\n",
            "\u001b[0;31mModuleNotFoundError\u001b[0m: No module named 'auth'",
            "",
            "\u001b[0;31m---------------------------------------------------------------------------\u001b[0;32m\nNOTE: If your import is failing due to a missing package, you can\nmanually install dependencies using either !pip or !apt.\n\nTo view examples of installing some common dependencies, click the\n\"Open Examples\" button below.\n\u001b[0;31m---------------------------------------------------------------------------\u001b[0m\n"
          ],
          "errorDetails": {
            "actions": [
              {
                "action": "open_url",
                "actionText": "Open Examples",
                "url": "/notebooks/snippets/importing_libraries.ipynb"
              }
            ]
          }
        }
      ]
    },
    {
      "cell_type": "markdown",
      "source": [
        "12.  How do you define a custom Jinja filter in Flask?"
      ],
      "metadata": {
        "id": "tGybOaTjbE5x"
      }
    },
    {
      "cell_type": "code",
      "source": [
        "def reverse_string(s):\n",
        "    return s[::-1]\n",
        "from flask import Flask\n",
        "\n",
        "app = Flask(__name__)\n",
        "\n",
        "@app.template_filter('reverse')\n",
        "def reverse_string(s):\n",
        "    return s[::-1]\n",
        "app.jinja_env.filters['reverse'] = reverse_string"
      ],
      "metadata": {
        "id": "gkrlqkVmY_RD"
      },
      "execution_count": 30,
      "outputs": []
    },
    {
      "cell_type": "markdown",
      "source": [
        "13. How can you redirect with query parameters in Flask?"
      ],
      "metadata": {
        "id": "8T5mG6YabNuI"
      }
    },
    {
      "cell_type": "code",
      "source": [
        "from flask import Flask, redirect, url_for, request\n",
        "\n",
        "app = Flask(__name__)\n",
        "\n",
        "@app.route('/')\n",
        "def home():\n",
        "    return redirect(url_for('greet', name='Alice', lang='en'))\n",
        "\n",
        "@app.route('/greet')\n",
        "def greet():\n",
        "    name = request.args.get('name')\n",
        "    lang = request.args.get('lang')\n",
        "    return f\"Hello {name}, language: {lang}\"\n",
        "\n",
        "if __name__ == '__main__':\n",
        "    app.run(debug=True)\n"
      ],
      "metadata": {
        "colab": {
          "base_uri": "https://localhost:8080/"
        },
        "id": "kCX7PaAubM4E",
        "outputId": "154df4fe-89d3-47be-f954-1378f369078b"
      },
      "execution_count": 31,
      "outputs": [
        {
          "output_type": "stream",
          "name": "stdout",
          "text": [
            " * Serving Flask app '__main__'\n",
            " * Debug mode: on\n"
          ]
        },
        {
          "output_type": "stream",
          "name": "stderr",
          "text": [
            "INFO:werkzeug:\u001b[31m\u001b[1mWARNING: This is a development server. Do not use it in a production deployment. Use a production WSGI server instead.\u001b[0m\n",
            " * Running on http://127.0.0.1:5000\n",
            "INFO:werkzeug:\u001b[33mPress CTRL+C to quit\u001b[0m\n",
            "INFO:werkzeug: * Restarting with watchdog (inotify)\n"
          ]
        }
      ]
    },
    {
      "cell_type": "markdown",
      "source": [
        "14. How do you return JSON responses in Flask?"
      ],
      "metadata": {
        "id": "ArH_4CK5bWdI"
      }
    },
    {
      "cell_type": "code",
      "source": [
        "from flask import Flask, jsonify\n",
        "\n",
        "app = Flask(__name__)\n",
        "\n",
        "@app.route('/api/data')\n",
        "def get_data():\n",
        "    return jsonify({\n",
        "        'name': 'Alice',\n",
        "        'age': 30,\n",
        "        'status': 'active'\n",
        "    })\n",
        "\n",
        "if __name__ == '__main__':\n",
        "    app.run(debug=True)\n"
      ],
      "metadata": {
        "colab": {
          "base_uri": "https://localhost:8080/"
        },
        "id": "JXYrlYSybViE",
        "outputId": "21cb2c96-11db-4a8f-eb75-f5de9de62605"
      },
      "execution_count": 32,
      "outputs": [
        {
          "output_type": "stream",
          "name": "stdout",
          "text": [
            " * Serving Flask app '__main__'\n",
            " * Debug mode: on\n"
          ]
        },
        {
          "output_type": "stream",
          "name": "stderr",
          "text": [
            "INFO:werkzeug:\u001b[31m\u001b[1mWARNING: This is a development server. Do not use it in a production deployment. Use a production WSGI server instead.\u001b[0m\n",
            " * Running on http://127.0.0.1:5000\n",
            "INFO:werkzeug:\u001b[33mPress CTRL+C to quit\u001b[0m\n",
            "INFO:werkzeug: * Restarting with watchdog (inotify)\n"
          ]
        }
      ]
    },
    {
      "cell_type": "markdown",
      "source": [
        "15. How do you capture URL parameters in Flask?"
      ],
      "metadata": {
        "id": "6BvmHxysbh4p"
      }
    },
    {
      "cell_type": "code",
      "source": [
        "from flask import Flask\n",
        "\n",
        "app = Flask(__name__)\n",
        "\n",
        "@app.route('/user/<username>')\n",
        "def show_user(username):\n",
        "    return f'Hello, {username}!'\n"
      ],
      "metadata": {
        "id": "2o2XB1N-bdGA"
      },
      "execution_count": 34,
      "outputs": []
    },
    {
      "cell_type": "code",
      "source": [],
      "metadata": {
        "id": "QN9bMIQ5brVy"
      },
      "execution_count": null,
      "outputs": []
    }
  ]
}